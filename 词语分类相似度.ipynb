{
 "cells": [
  {
   "cell_type": "code",
   "execution_count": 21,
   "metadata": {},
   "outputs": [],
   "source": [
    "c=[[],\n",
    " ['位置:挺好', '价格:贵', '态度:好', '感觉:合适'],\n",
    " ['性价比:低', '价格:贵'],\n",
    " ['服务态度:服务态度一般'],\n",
    " ['收费:贵'],\n",
    " ['量:少', '味道:味道不错'],\n",
    " ['服务态度:好', '细节:差劲'],\n",
    " ['火锅:好吃', '服务态度:好'],\n",
    " ['服务人员:服务人员一般'],\n",
    " ['酥肉:不好吃', '味道:咸'],\n",
    " ['口味一般:', '腥味:大', '感觉:不太新鲜', '蔬菜:好', '糍粑:不错'],\n",
    " ['酥肉:不好吃', '牛肉:好'],\n",
    " ['服务人员:服务人员一般', '感觉:好'],\n",
    " [],\n",
    " ['服务态度:差', '菜品:不错', '菜品:还不错'],\n",
    " ['体验:差'],\n",
    " ['管理一般:'],\n",
    " ['东西:好吃'],\n",
    " ['味道:好', '味道:确实', '收银员一般:', '感觉:开心', '收银员一般:'],\n",
    " ['羊肉不错:', '环境:好', '环境:还不错', '总体:还可以'],\n",
    " ['环境:好', '服务不错:', '火锅:好吃'],\n",
    " ['味道不错:', '份量:适中', '酸梅汤不错:', '东西:新鲜', '鸭血不错:'],\n",
    " ['味道:味道不错'],\n",
    " ['收费:贵', '菜量:一般'],\n",
    " ['味道:好', '红糖糍粑:好吃', '糍粑:好吃'],\n",
    " ['味道:一般', '价格:贵', '价格:小'],\n",
    " ['菜品:新鲜', '小伙伴:一起', '味道:好'],\n",
    " [],\n",
    " ['味道:还好'],\n",
    " ['菜品:新鲜', '环境:挺好', '服务态度:好'],\n",
    " ['西瓜不错:', '酸梅汤不错:'],\n",
    " ['东西:好吃', '味道:辣', '味道:正宗', '东西:赞', '价格:贵', '还会:再去'],\n",
    " ['环境:好', '环境:还不错', '服务态度:服务态度不错', '味道:味道一般', '价格:贵'],\n",
    " ['东西:赞', '水果:好', '份量:份量足'],\n",
    " ['价位:不低', '感觉:一般'],\n",
    " ['菜品:不错', '服务人员:服务人员一般'],\n",
    " [],\n",
    " ['东西:好吃', '服务态度:好'],\n",
    " ['口感:好', '特色菜:好吃', '菜品一般:', '感觉:好'],\n",
    " [],\n",
    " ['女生:多', '价格:贵', '质量:好'],\n",
    " ['态度:差'],\n",
    " ['味道:好', '价格:贵'],\n",
    " ['价格:贵'],\n",
    " ['味道:味道不错'],\n",
    " ['感觉:好'],\n",
    " ['菜品:贵'],\n",
    " [],\n",
    " ['同事:聚会', '东西:好吃', '东西:好吃'],\n",
    " ['感觉:好'],\n",
    " ['东西:好吃'],\n",
    " ['环境:好', '量:不多', '价格:实惠', '味道:好', '味道:还不错'],\n",
    " ['牛肉:咸'],\n",
    " ['东西:好吃'],\n",
    " ['东西:好吃'],\n",
    " ['鸭血:好', '黄喉:一般'],\n",
    " ['味道:一般', '价格:贵'],\n",
    " ['肚子:一般'],\n",
    " ['牛肉:不好吃', '锅底味道:不错', '口味不错:'],\n",
    " ['价格:贵', '价格:小'],\n",
    " ['味道:挺好'],\n",
    " ['味道:辣'],\n",
    " ['感觉:好', '粉:不错'],\n",
    " ['服务态度:服务态度一般'],\n",
    " ['东西:好吃', '价位:不低'],\n",
    " ['环境:好', '口味不错:'],\n",
    " ['菜:新鲜', '服务人员:热情', '服务态度:好'],\n",
    " ['鸭肠一般:', '糍粑不错:', '收费:贵', '味道:味道一般', '火锅一般:'],\n",
    " ['服务态度:差', '味道:还行'],\n",
    " ['用餐不舒适:', '饮料不错:'],\n",
    " ['东西:好吃'],\n",
    " [],\n",
    " ['味道:好', '环境:好', '价格:贵'],\n",
    " [],\n",
    " ['价格:贵'],\n",
    " ['味道:一般', '价格:价格昂贵'],\n",
    " ['服务态度:差', '服务人员:服务人员一般'],\n",
    " ['东西:好吃', '价格:贵'],\n",
    " ['我喜欢:辣', '东西:赞', '圈:给力', '东西:赞', '东西:赞', '态度一般:'],\n",
    " ['份量:小', '锅:不好吃', '服务态度:差'],\n",
    " ['两个人:多'],\n",
    " ['感觉:贵', '味道:还好', '客流量:大', '量:大', '店面:不行'],\n",
    " ['椅子:不舒服', '味道:好']]\n"
   ]
  },
  {
   "cell_type": "code",
   "execution_count": 22,
   "metadata": {},
   "outputs": [
    {
     "data": {
      "text/plain": [
       "83"
      ]
     },
     "execution_count": 22,
     "metadata": {},
     "output_type": "execute_result"
    }
   ],
   "source": [
    "len(c)"
   ]
  },
  {
   "cell_type": "code",
   "execution_count": 4,
   "metadata": {},
   "outputs": [
    {
     "name": "stdout",
     "output_type": "stream",
     "text": [
      "[jieba] default dict file path ..\\data\\vocab.txt\n",
      "[jieba] default dict file path ..\\data\\vocab.txt\n",
      "[jieba] load default dict ..\\data\\vocab.txt ...\n",
      "[jieba] load default dict ..\\data\\vocab.txt ...\n",
      ">> Synonyms load wordseg dict [E:\\Anaconda\\lib\\site-packages\\synonyms\\data\\vocab.txt] ... \n",
      ">> Synonyms on loading stopwords [E:\\Anaconda\\lib\\site-packages\\synonyms\\data\\stopwords.txt] ...\n",
      "[Synonyms] on loading vectors [E:\\Anaconda\\lib\\site-packages\\synonyms\\data\\words.vector.gz] ...\n",
      "\n",
      "[Synonyms] downloading data from https://github.com/chatopera/Synonyms/releases/download/3.15.0/words.vector.gz to E:\\Anaconda\\lib\\site-packages\\synonyms\\data\\words.vector.gz ... \n",
      " this only happens if SYNONYMS_WORD2VEC_BIN_URL_ZH_CN is not present and Synonyms initialization for the first time. \n",
      " It would take minutes that depends on network.\n",
      "100% [......................................................................] 165919480 / 165919480\n",
      "[Synonyms] downloaded.\n",
      "\n"
     ]
    },
    {
     "name": "stderr",
     "output_type": "stream",
     "text": [
      "E:\\Anaconda\\lib\\site-packages\\smart_open\\smart_open_lib.py:254: UserWarning: This function is deprecated, use smart_open.open instead. See the migration notes for details: https://github.com/RaRe-Technologies/smart_open/blob/master/README.rst#migrating-to-the-new-open-function\n",
      "  'See the migration notes for details: %s' % _MIGRATION_NOTES_URL\n"
     ]
    }
   ],
   "source": [
    "import synonyms"
   ]
  },
  {
   "cell_type": "code",
   "execution_count": 111,
   "metadata": {},
   "outputs": [
    {
     "data": {
      "text/plain": [
       "0.037"
      ]
     },
     "execution_count": 111,
     "metadata": {},
     "output_type": "execute_result"
    }
   ],
   "source": [
    "synonyms.compare('位置','价格:贵',seg=True)"
   ]
  },
  {
   "cell_type": "code",
   "execution_count": 112,
   "metadata": {},
   "outputs": [
    {
     "name": "stdout",
     "output_type": "stream",
     "text": [
      "[Synonyms] not exist in w2v model: 价格:贵\n"
     ]
    },
    {
     "data": {
      "text/plain": [
       "0.016"
      ]
     },
     "execution_count": 112,
     "metadata": {},
     "output_type": "execute_result"
    }
   ],
   "source": [
    "synonyms.compare('位置','价格:贵',seg=False)"
   ]
  },
  {
   "cell_type": "code",
   "execution_count": 39,
   "metadata": {},
   "outputs": [
    {
     "data": {
      "text/plain": [
       "0.043"
      ]
     },
     "execution_count": 39,
     "metadata": {},
     "output_type": "execute_result"
    }
   ],
   "source": [
    "synonyms.compare('服务','价格:贵',seg=True)"
   ]
  },
  {
   "cell_type": "code",
   "execution_count": 38,
   "metadata": {},
   "outputs": [
    {
     "data": {
      "text/plain": [
       "0.523"
      ]
     },
     "execution_count": 38,
     "metadata": {},
     "output_type": "execute_result"
    }
   ],
   "source": [
    "synonyms.compare('价格','价格:贵',seg=True)"
   ]
  },
  {
   "cell_type": "code",
   "execution_count": 35,
   "metadata": {},
   "outputs": [
    {
     "data": {
      "text/plain": [
       "0.135"
      ]
     },
     "execution_count": 35,
     "metadata": {},
     "output_type": "execute_result"
    }
   ],
   "source": [
    "synonyms.compare('食物','价格:贵',seg=True)"
   ]
  },
  {
   "cell_type": "code",
   "execution_count": 32,
   "metadata": {},
   "outputs": [
    {
     "name": "stdout",
     "output_type": "stream",
     "text": [
      "[Synonyms] not exist in w2v model: 价格:贵\n"
     ]
    },
    {
     "data": {
      "text/plain": [
       "0.034"
      ]
     },
     "execution_count": 32,
     "metadata": {},
     "output_type": "execute_result"
    }
   ],
   "source": [
    "synonyms.compare('环境','价格:贵',seg=False)"
   ]
  },
  {
   "cell_type": "code",
   "execution_count": 15,
   "metadata": {},
   "outputs": [
    {
     "name": "stdout",
     "output_type": "stream",
     "text": [
      "[Synonyms] not exist in w2v model: 羊肉不错\n"
     ]
    },
    {
     "data": {
      "text/plain": [
       "0.061"
      ]
     },
     "execution_count": 15,
     "metadata": {},
     "output_type": "execute_result"
    }
   ],
   "source": [
    "synonyms.compare('环境','羊肉不错',seg=False)"
   ]
  },
  {
   "cell_type": "code",
   "execution_count": 16,
   "metadata": {},
   "outputs": [
    {
     "name": "stdout",
     "output_type": "stream",
     "text": [
      "[Synonyms] not exist in w2v model: 羊肉不错\n"
     ]
    },
    {
     "data": {
      "text/plain": [
       "0.016"
      ]
     },
     "execution_count": 16,
     "metadata": {},
     "output_type": "execute_result"
    }
   ],
   "source": [
    "synonyms.compare('服务','羊肉不错',seg=False)"
   ]
  },
  {
   "cell_type": "code",
   "execution_count": 17,
   "metadata": {},
   "outputs": [
    {
     "name": "stdout",
     "output_type": "stream",
     "text": [
      "[Synonyms] not exist in w2v model: 羊肉不错\n"
     ]
    },
    {
     "data": {
      "text/plain": [
       "0.11"
      ]
     },
     "execution_count": 17,
     "metadata": {},
     "output_type": "execute_result"
    }
   ],
   "source": [
    "synonyms.compare('食物','羊肉不错',seg=False)"
   ]
  },
  {
   "cell_type": "code",
   "execution_count": 18,
   "metadata": {},
   "outputs": [
    {
     "data": {
      "text/plain": [
       "0.326"
      ]
     },
     "execution_count": 18,
     "metadata": {},
     "output_type": "execute_result"
    }
   ],
   "source": [
    "synonyms.compare('食物','羊肉',seg=False)"
   ]
  },
  {
   "cell_type": "code",
   "execution_count": 19,
   "metadata": {},
   "outputs": [
    {
     "name": "stdout",
     "output_type": "stream",
     "text": [
      "[Synonyms] not exist in w2v model: 羊肉不错\n"
     ]
    },
    {
     "data": {
      "text/plain": [
       "0.068"
      ]
     },
     "execution_count": 19,
     "metadata": {},
     "output_type": "execute_result"
    }
   ],
   "source": [
    "synonyms.compare('价格','羊肉不错',seg=False)"
   ]
  },
  {
   "cell_type": "code",
   "execution_count": 20,
   "metadata": {},
   "outputs": [
    {
     "name": "stdout",
     "output_type": "stream",
     "text": [
      "[Synonyms] not exist in w2v model: 羊肉不错\n"
     ]
    },
    {
     "data": {
      "text/plain": [
       "0.044"
      ]
     },
     "execution_count": 20,
     "metadata": {},
     "output_type": "execute_result"
    }
   ],
   "source": [
    "synonyms.compare('位置','羊肉不错',seg=False)"
   ]
  },
  {
   "cell_type": "code",
   "execution_count": 73,
   "metadata": {},
   "outputs": [
    {
     "data": {
      "text/plain": [
       "['位置:挺好', '价格:贵', '态度:好', '感觉:合适']"
      ]
     },
     "execution_count": 73,
     "metadata": {},
     "output_type": "execute_result"
    }
   ],
   "source": [
    "c[1]"
   ]
  },
  {
   "cell_type": "code",
   "execution_count": 91,
   "metadata": {},
   "outputs": [],
   "source": [
    "list=['位置','服务','价格','环境','食物']"
   ]
  },
  {
   "cell_type": "code",
   "execution_count": 79,
   "metadata": {},
   "outputs": [
    {
     "name": "stdout",
     "output_type": "stream",
     "text": [
      "0.045\n",
      "0.065\n",
      "1.0\n",
      "0.048\n"
     ]
    }
   ],
   "source": [
    "for i in range(4):\n",
    "    print(synonyms.compare('价格',list[i],seg=True))"
   ]
  },
  {
   "cell_type": "code",
   "execution_count": 82,
   "metadata": {},
   "outputs": [
    {
     "data": {
      "text/plain": [
       "'位置:挺好'"
      ]
     },
     "execution_count": 82,
     "metadata": {},
     "output_type": "execute_result"
    }
   ],
   "source": [
    "ch"
   ]
  },
  {
   "cell_type": "code",
   "execution_count": 100,
   "metadata": {},
   "outputs": [],
   "source": [
    "res=[[1],[2],[3],[4],[5]]\n",
    "arr=[]"
   ]
  },
  {
   "cell_type": "code",
   "execution_count": 101,
   "metadata": {},
   "outputs": [
    {
     "data": {
      "text/plain": [
       "[0.505, 0.083, 0.011, 0.003, 0.021]"
      ]
     },
     "execution_count": 101,
     "metadata": {},
     "output_type": "execute_result"
    }
   ],
   "source": [
    "for i in range(5):\n",
    "    arr.append(synonyms.compare(ch,list[i],seg=True))\n",
    "arr\n",
    "    "
   ]
  },
  {
   "cell_type": "code",
   "execution_count": 102,
   "metadata": {},
   "outputs": [
    {
     "data": {
      "text/plain": [
       "0"
      ]
     },
     "execution_count": 102,
     "metadata": {},
     "output_type": "execute_result"
    }
   ],
   "source": [
    "arr.index(max(arr))##取最大值的下标"
   ]
  },
  {
   "cell_type": "code",
   "execution_count": 104,
   "metadata": {},
   "outputs": [
    {
     "data": {
      "text/plain": [
       "[[1, '位置:挺好'], [2], [3], [4], [5]]"
      ]
     },
     "execution_count": 104,
     "metadata": {},
     "output_type": "execute_result"
    }
   ],
   "source": [
    "res"
   ]
  },
  {
   "cell_type": "code",
   "execution_count": 88,
   "metadata": {},
   "outputs": [
    {
     "name": "stdout",
     "output_type": "stream",
     "text": [
      "0.505\n",
      "0.083\n",
      "0.011\n",
      "0.003\n",
      "0.021\n"
     ]
    }
   ],
   "source": [
    "for i in range(5):\n",
    "    print(synonyms.compare('位置:挺好',list[i],seg=True))"
   ]
  },
  {
   "cell_type": "code",
   "execution_count": 113,
   "metadata": {},
   "outputs": [],
   "source": [
    "res=[[],[],[],[],[]]\n",
    "for ch in c[1]:\n",
    "    arr=[]\n",
    "    for i in range(5):\n",
    "        arr.append(synonyms.compare(ch,list[i],seg=True))\n",
    "    res[arr.index(max(arr))].append(ch)\n",
    "    \n",
    "\n",
    "    "
   ]
  },
  {
   "cell_type": "code",
   "execution_count": 114,
   "metadata": {},
   "outputs": [
    {
     "data": {
      "text/plain": [
       "[['位置:挺好'], [], ['价格:贵'], ['态度:好'], ['感觉:合适']]"
      ]
     },
     "execution_count": 114,
     "metadata": {},
     "output_type": "execute_result"
    }
   ],
   "source": [
    "res"
   ]
  },
  {
   "cell_type": "markdown",
   "metadata": {},
   "source": [
    "##"
   ]
  },
  {
   "cell_type": "code",
   "execution_count": 109,
   "metadata": {},
   "outputs": [
    {
     "name": "stdout",
     "output_type": "stream",
     "text": [
      "[Synonyms] not exist in w2v model: 酥肉\n",
      "[Synonyms] not exist in w2v model: 酥肉\n",
      "[Synonyms] not exist in w2v model: 酥肉\n",
      "[Synonyms] not exist in w2v model: 酥肉\n",
      "[Synonyms] not exist in w2v model: 酥肉\n",
      "[Synonyms] not exist in w2v model: 酥肉\n",
      "[Synonyms] not exist in w2v model: 酥肉\n",
      "[Synonyms] not exist in w2v model: 酥肉\n",
      "[Synonyms] not exist in w2v model: 酥肉\n",
      "[Synonyms] not exist in w2v model: 酥肉\n",
      "[Synonyms] not exist in w2v model: 鸭血\n",
      "[Synonyms] not exist in w2v model: 鸭血\n",
      "[Synonyms] not exist in w2v model: 鸭血\n",
      "[Synonyms] not exist in w2v model: 鸭血\n",
      "[Synonyms] not exist in w2v model: 鸭血\n",
      "[Synonyms] not exist in w2v model: 菜量\n",
      "[Synonyms] not exist in w2v model: 菜量\n",
      "[Synonyms] not exist in w2v model: 菜量\n",
      "[Synonyms] not exist in w2v model: 菜量\n",
      "[Synonyms] not exist in w2v model: 菜量\n"
     ]
    },
    {
     "name": "stderr",
     "output_type": "stream",
     "text": [
      "E:\\Anaconda\\lib\\site-packages\\synonyms\\utils.py:246: RuntimeWarning: invalid value encountered in true_divide\n",
      "  cosine = lambda a, b: dot(a, b)/(norm(a)*norm(b))\n"
     ]
    },
    {
     "name": "stdout",
     "output_type": "stream",
     "text": [
      "[Synonyms] not exist in w2v model: 鸭血\n",
      "[Synonyms] not exist in w2v model: 鸭血\n",
      "[Synonyms] not exist in w2v model: 鸭血\n",
      "[Synonyms] not exist in w2v model: 鸭血\n",
      "[Synonyms] not exist in w2v model: 鸭血\n",
      "[Synonyms] not exist in w2v model: 鸭肠\n",
      "[Synonyms] not exist in w2v model: 鸭肠\n",
      "[Synonyms] not exist in w2v model: 鸭肠\n",
      "[Synonyms] not exist in w2v model: 鸭肠\n",
      "[Synonyms] not exist in w2v model: 鸭肠\n"
     ]
    }
   ],
   "source": [
    "ans=[]\n",
    "for i in range(83):\n",
    "    res=[[],[],[],[],[],[]]\n",
    "    for ch in c[i]:\n",
    "        arr=[]\n",
    "        for j in range(5):\n",
    "            arr.append(synonyms.compare(ch,list[j],seg=True))\n",
    "        res[arr.index(max(arr))].append(ch)\n",
    "    ans.append(res)\n",
    "            "
   ]
  },
  {
   "cell_type": "code",
   "execution_count": 110,
   "metadata": {
    "scrolled": true
   },
   "outputs": [
    {
     "data": {
      "text/plain": [
       "[[[], [], [], [], [], []],\n",
       " [['位置:挺好'], [], ['价格:贵'], ['态度:好'], ['感觉:合适'], []],\n",
       " [[], [], ['性价比:低', '价格:贵'], [], [], []],\n",
       " [[], ['服务态度:服务态度一般'], [], [], [], []],\n",
       " [[], [], ['收费:贵'], [], [], []],\n",
       " [[], [], ['量:少'], [], ['味道:味道不错'], []],\n",
       " [[], ['服务态度:好'], [], ['细节:差劲'], [], []],\n",
       " [[], ['服务态度:好'], [], [], ['火锅:好吃'], []],\n",
       " [[], ['服务人员:服务人员一般'], [], [], [], []],\n",
       " [[], [], [], [], ['酥肉:不好吃', '味道:咸'], []],\n",
       " [[], [], [], [], ['口味一般:', '腥味:大', '感觉:不太新鲜', '蔬菜:好', '糍粑:不错'], []],\n",
       " [[], [], [], [], ['酥肉:不好吃', '牛肉:好'], []],\n",
       " [[], ['服务人员:服务人员一般'], [], ['感觉:好'], [], []],\n",
       " [[], [], [], [], [], []],\n",
       " [[], ['服务态度:差'], [], [], ['菜品:不错', '菜品:还不错'], []],\n",
       " [[], [], [], [], ['体验:差'], []],\n",
       " [[], [], [], ['管理一般:'], [], []],\n",
       " [[], [], [], [], ['东西:好吃'], []],\n",
       " [[], ['收银员一般:', '感觉:开心', '收银员一般:'], [], [], ['味道:好', '味道:确实'], []],\n",
       " [[], [], [], ['环境:好', '环境:还不错', '总体:还可以'], ['羊肉不错:'], []],\n",
       " [[], ['服务不错:'], [], ['环境:好'], ['火锅:好吃'], []],\n",
       " [[], [], ['鸭血不错:'], [], ['味道不错:', '份量:适中', '酸梅汤不错:', '东西:新鲜'], []],\n",
       " [[], [], [], [], ['味道:味道不错'], []],\n",
       " [[], [], ['收费:贵', '菜量:一般'], [], [], []],\n",
       " [[], [], [], [], ['味道:好', '红糖糍粑:好吃', '糍粑:好吃'], []],\n",
       " [[], [], ['价格:贵', '价格:小'], [], ['味道:一般'], []],\n",
       " [[], [], [], [], ['菜品:新鲜', '小伙伴:一起', '味道:好'], []],\n",
       " [[], [], [], [], [], []],\n",
       " [[], [], [], [], ['味道:还好'], []],\n",
       " [[], ['服务态度:好'], [], ['环境:挺好'], ['菜品:新鲜'], []],\n",
       " [[], [], [], [], ['西瓜不错:', '酸梅汤不错:'], []],\n",
       " [['还会:再去'], ['东西:赞'], ['价格:贵'], [], ['东西:好吃', '味道:辣', '味道:正宗'], []],\n",
       " [[], ['服务态度:服务态度不错'], ['价格:贵'], ['环境:好', '环境:还不错'], ['味道:味道一般'], []],\n",
       " [[], ['东西:赞'], [], [], ['水果:好', '份量:份量足'], []],\n",
       " [[], [], ['价位:不低'], ['感觉:一般'], [], []],\n",
       " [[], ['服务人员:服务人员一般'], [], [], ['菜品:不错'], []],\n",
       " [[], [], [], [], [], []],\n",
       " [[], ['服务态度:好'], [], [], ['东西:好吃'], []],\n",
       " [[], [], [], ['感觉:好'], ['口感:好', '特色菜:好吃', '菜品一般:'], []],\n",
       " [[], [], [], [], [], []],\n",
       " [[], ['女生:多', '质量:好'], ['价格:贵'], [], [], []],\n",
       " [[], [], [], ['态度:差'], [], []],\n",
       " [[], [], ['价格:贵'], [], ['味道:好'], []],\n",
       " [[], [], ['价格:贵'], [], [], []],\n",
       " [[], [], [], [], ['味道:味道不错'], []],\n",
       " [[], [], [], ['感觉:好'], [], []],\n",
       " [[], [], [], [], ['菜品:贵'], []],\n",
       " [[], [], [], [], [], []],\n",
       " [[], [], ['同事:聚会'], [], ['东西:好吃', '东西:好吃'], []],\n",
       " [[], [], [], ['感觉:好'], [], []],\n",
       " [[], [], [], [], ['东西:好吃'], []],\n",
       " [[], [], ['量:不多', '价格:实惠'], ['环境:好'], ['味道:好', '味道:还不错'], []],\n",
       " [[], [], [], [], ['牛肉:咸'], []],\n",
       " [[], [], [], [], ['东西:好吃'], []],\n",
       " [[], [], [], [], ['东西:好吃'], []],\n",
       " [[], [], ['鸭血:好'], [], ['黄喉:一般'], []],\n",
       " [[], [], ['价格:贵'], [], ['味道:一般'], []],\n",
       " [[], [], [], [], ['肚子:一般'], []],\n",
       " [[], [], [], [], ['牛肉:不好吃', '锅底味道:不错', '口味不错:'], []],\n",
       " [[], [], ['价格:贵', '价格:小'], [], [], []],\n",
       " [[], [], [], [], ['味道:挺好'], []],\n",
       " [[], [], [], [], ['味道:辣'], []],\n",
       " [[], [], [], ['感觉:好'], ['粉:不错'], []],\n",
       " [[], ['服务态度:服务态度一般'], [], [], [], []],\n",
       " [[], [], ['价位:不低'], [], ['东西:好吃'], []],\n",
       " [[], [], [], ['环境:好'], ['口味不错:'], []],\n",
       " [[], ['服务人员:热情', '服务态度:好'], [], [], ['菜:新鲜'], []],\n",
       " [['鸭肠一般:'], [], ['收费:贵'], [], ['糍粑不错:', '味道:味道一般', '火锅一般:'], []],\n",
       " [[], ['服务态度:差'], [], [], ['味道:还行'], []],\n",
       " [[], [], [], [], ['用餐不舒适:', '饮料不错:'], []],\n",
       " [[], [], [], [], ['东西:好吃'], []],\n",
       " [[], [], [], [], [], []],\n",
       " [[], [], ['价格:贵'], ['环境:好'], ['味道:好'], []],\n",
       " [[], [], [], [], [], []],\n",
       " [[], [], ['价格:贵'], [], [], []],\n",
       " [[], [], ['价格:价格昂贵'], [], ['味道:一般'], []],\n",
       " [[], ['服务态度:差', '服务人员:服务人员一般'], [], [], [], []],\n",
       " [[], [], ['价格:贵'], [], ['东西:好吃'], []],\n",
       " [['圈:给力'], ['东西:赞', '东西:赞', '东西:赞'], [], ['态度一般:'], ['我喜欢:辣'], []],\n",
       " [[], ['服务态度:差'], [], [], ['份量:小', '锅:不好吃'], []],\n",
       " [['两个人:多'], [], [], [], [], []],\n",
       " [[], [], ['客流量:大', '量:大'], [], ['感觉:贵', '味道:还好', '店面:不行'], []],\n",
       " [[], ['椅子:不舒服'], [], [], ['味道:好'], []]]"
      ]
     },
     "execution_count": 110,
     "metadata": {},
     "output_type": "execute_result"
    }
   ],
   "source": [
    "ans"
   ]
  },
  {
   "cell_type": "code",
   "execution_count": null,
   "metadata": {},
   "outputs": [],
   "source": []
  }
 ],
 "metadata": {
  "kernelspec": {
   "display_name": "Python 3",
   "language": "python",
   "name": "python3"
  },
  "language_info": {
   "codemirror_mode": {
    "name": "ipython",
    "version": 3
   },
   "file_extension": ".py",
   "mimetype": "text/x-python",
   "name": "python",
   "nbconvert_exporter": "python",
   "pygments_lexer": "ipython3",
   "version": "3.7.4"
  }
 },
 "nbformat": 4,
 "nbformat_minor": 2
}
